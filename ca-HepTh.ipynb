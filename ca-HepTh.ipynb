{
 "cells": [
  {
   "cell_type": "code",
   "execution_count": 1,
   "metadata": {},
   "outputs": [],
   "source": [
    "import numpy as np\n",
    "import graphblas as gb\n",
    "from k_clique import counting_k_cliques\n",
    "from time import time\n",
    "from math import factorial as f"
   ]
  },
  {
   "cell_type": "markdown",
   "metadata": {},
   "source": [
    "# Tests on graph <a href=\"http://snap.stanford.edu/data/ca-HepTh.html\">ca-HepTh</a>.\n",
    "$|V|=9.875$, $|E|=25.973$"
   ]
  },
  {
   "cell_type": "code",
   "execution_count": 2,
   "metadata": {},
   "outputs": [],
   "source": [
    "edges = []\n",
    "encoder = dict()\n",
    "counter = 0\n",
    "with open(\"benchmarks/CA-HepTh.txt\") as file:\n",
    "    for line in file:\n",
    "        x = tuple(map(int, line.split()))\n",
    "        if x[0] != x[1]:\n",
    "            if x[0] not in encoder:\n",
    "                encoder[x[0]] = counter\n",
    "                counter += 1\n",
    "            if x[1] not in encoder:\n",
    "                encoder[x[1]] = counter\n",
    "                counter += 1\n",
    "            y = (encoder[x[0]], encoder[x[1]])\n",
    "            edges.append(y)\n",
    "            edges.append((y[1], y[0]))\n",
    "A = gb.Matrix.from_edgelist(edges, dtype='UINT64')"
   ]
  },
  {
   "cell_type": "markdown",
   "metadata": {},
   "source": [
    "# Checking the correctness of the calculation and benchmarks"
   ]
  },
  {
   "cell_type": "code",
   "execution_count": 3,
   "metadata": {},
   "outputs": [
    {
     "name": "stdout",
     "output_type": "stream",
     "text": [
      "k = 3, number of cliques = 28339, execution time = 0.00798\n"
     ]
    }
   ],
   "source": [
    "k = 3\n",
    "start_time = time()\n",
    "number = counting_k_cliques(A, k)\n",
    "print(f'k = {k}, number of cliques = {number}, execution time = {np.round(time() - start_time, 5)}')"
   ]
  },
  {
   "cell_type": "code",
   "execution_count": 4,
   "metadata": {},
   "outputs": [
    {
     "name": "stdout",
     "output_type": "stream",
     "text": [
      "k = 4, number of cliques = 65592, execution time = 0.04448\n"
     ]
    }
   ],
   "source": [
    "k = 4\n",
    "start_time = time()\n",
    "number = counting_k_cliques(A, k)\n",
    "print(f'k = {k}, number of cliques = {number}, execution time = {np.round(time() - start_time, 5)}')"
   ]
  },
  {
   "cell_type": "code",
   "execution_count": 5,
   "metadata": {},
   "outputs": [
    {
     "name": "stdout",
     "output_type": "stream",
     "text": [
      "k = 5, number of cliques = 279547, execution time = 0.07305\n"
     ]
    }
   ],
   "source": [
    "k = 5\n",
    "start_time = time()\n",
    "number = counting_k_cliques(A, k)\n",
    "print(f'k = {k}, number of cliques = {number}, execution time = {np.round(time() - start_time, 5)}')"
   ]
  },
  {
   "cell_type": "code",
   "execution_count": 6,
   "metadata": {},
   "outputs": [
    {
     "name": "stdout",
     "output_type": "stream",
     "text": [
      "k = 6, number of cliques = 1123584, execution time = 0.06808\n"
     ]
    }
   ],
   "source": [
    "k = 6\n",
    "start_time = time()\n",
    "number = counting_k_cliques(A, k)\n",
    "print(f'k = {k}, number of cliques = {number}, execution time = {np.round(time() - start_time, 5)}')"
   ]
  },
  {
   "cell_type": "code",
   "execution_count": 7,
   "metadata": {},
   "outputs": [
    {
     "name": "stderr",
     "output_type": "stream",
     "text": [
      "OMP: Info #276: omp_set_nested routine deprecated, please use omp_set_max_active_levels instead.\n"
     ]
    },
    {
     "name": "stdout",
     "output_type": "stream",
     "text": [
      "k = 7, number of cliques = 3879079, execution time = 1.10358\n"
     ]
    }
   ],
   "source": [
    "k = 7\n",
    "start_time = time()\n",
    "number = counting_k_cliques(A, k)\n",
    "print(f'k = {k}, number of cliques = {number}, execution time = {np.round(time() - start_time, 5)}')"
   ]
  },
  {
   "cell_type": "code",
   "execution_count": 8,
   "metadata": {},
   "outputs": [
    {
     "name": "stdout",
     "output_type": "stream",
     "text": [
      "k = 8, number of cliques = 11532951, execution time = 0.49499\n"
     ]
    }
   ],
   "source": [
    "k = 8\n",
    "start_time = time()\n",
    "number = counting_k_cliques(A, k)\n",
    "print(f'k = {k}, number of cliques = {number}, execution time = {np.round(time() - start_time, 5)}')"
   ]
  },
  {
   "cell_type": "code",
   "execution_count": 9,
   "metadata": {},
   "outputs": [
    {
     "name": "stdout",
     "output_type": "stream",
     "text": [
      "k = 9, number of cliques = 29742628, execution time = 0.41205\n"
     ]
    }
   ],
   "source": [
    "k = 9\n",
    "start_time = time()\n",
    "number = counting_k_cliques(A, k)\n",
    "print(f'k = {k}, number of cliques = {number}, execution time = {np.round(time() - start_time, 5)}')"
   ]
  },
  {
   "cell_type": "code",
   "execution_count": 10,
   "metadata": {},
   "outputs": [
    {
     "name": "stdout",
     "output_type": "stream",
     "text": [
      "k = 10, number of cliques = 66918591, execution time = 1.91654\n"
     ]
    }
   ],
   "source": [
    "k = 10\n",
    "start_time = time()\n",
    "number = counting_k_cliques(A, k)\n",
    "print(f'k = {k}, number of cliques = {number}, execution time = {np.round(time() - start_time, 5)}')"
   ]
  },
  {
   "cell_type": "code",
   "execution_count": 11,
   "metadata": {},
   "outputs": [
    {
     "name": "stdout",
     "output_type": "stream",
     "text": [
      "k = 11, number of cliques = 131948922, execution time = 6.27791\n"
     ]
    }
   ],
   "source": [
    "k = 11\n",
    "start_time = time()\n",
    "number = counting_k_cliques(A, k)\n",
    "print(f'k = {k}, number of cliques = {number}, execution time = {np.round(time() - start_time, 5)}')"
   ]
  },
  {
   "cell_type": "code",
   "execution_count": 12,
   "metadata": {},
   "outputs": [
    {
     "name": "stdout",
     "output_type": "stream",
     "text": [
      "k = 12, number of cliques = 228841314, execution time = 5.36644\n"
     ]
    }
   ],
   "source": [
    "k = 12\n",
    "start_time = time()\n",
    "number = counting_k_cliques(A, k)\n",
    "print(f'k = {k}, number of cliques = {number}, execution time = {np.round(time() - start_time, 5)}')"
   ]
  },
  {
   "cell_type": "code",
   "execution_count": 13,
   "metadata": {},
   "outputs": [
    {
     "name": "stdout",
     "output_type": "stream",
     "text": [
      "k = 13, number of cliques = 350100366, execution time = 41.17536\n"
     ]
    }
   ],
   "source": [
    "k = 13\n",
    "start_time = time()\n",
    "number = counting_k_cliques(A, k)\n",
    "print(f'k = {k}, number of cliques = {number}, execution time = {np.round(time() - start_time, 5)}')"
   ]
  }
 ],
 "metadata": {
  "kernelspec": {
   "display_name": "Python [.conda-graphblas]",
   "language": "python",
   "name": "conda-env-.conda-graphblas-py"
  },
  "language_info": {
   "codemirror_mode": {
    "name": "ipython",
    "version": 3
   },
   "file_extension": ".py",
   "mimetype": "text/x-python",
   "name": "python",
   "nbconvert_exporter": "python",
   "pygments_lexer": "ipython3",
   "version": "3.11.3"
  }
 },
 "nbformat": 4,
 "nbformat_minor": 4
}
