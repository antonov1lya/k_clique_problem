{
 "cells": [
  {
   "cell_type": "code",
   "execution_count": 1,
   "metadata": {},
   "outputs": [],
   "source": [
    "import numpy as np\n",
    "import graphblas as gb\n",
    "from k_clique import counting_k_cliques\n",
    "from time import time\n",
    "from math import factorial as f"
   ]
  },
  {
   "attachments": {},
   "cell_type": "markdown",
   "metadata": {},
   "source": [
    "# Tests on graph <a href=\"https://snap.stanford.edu/data/com-Youtube.html\">com-Youtube</a>.\n",
    "$|V|=1.134.890$, $|E|=2.987.624$"
   ]
  },
  {
   "cell_type": "code",
   "execution_count": 2,
   "metadata": {},
   "outputs": [],
   "source": [
    "edges = []\n",
    "encoder = dict()\n",
    "counter = 0\n",
    "with open(\"benchmarks/com-youtube.ungraph.txt\") as file:\n",
    "    for line in file:\n",
    "        x = tuple(map(int, line.split()))\n",
    "        if x[0] != x[1]:\n",
    "            if x[0] not in encoder:\n",
    "                encoder[x[0]] = counter\n",
    "                counter += 1\n",
    "            if x[1] not in encoder:\n",
    "                encoder[x[1]] = counter\n",
    "                counter += 1\n",
    "            y = (encoder[x[0]], encoder[x[1]])\n",
    "            edges.append(y)\n",
    "            edges.append((y[1], y[0]))\n",
    "A = gb.Matrix.from_edgelist(edges, dtype='UINT64')"
   ]
  },
  {
   "attachments": {},
   "cell_type": "markdown",
   "metadata": {},
   "source": [
    "# Checking the correctness of the calculation and benchmarks"
   ]
  },
  {
   "cell_type": "code",
   "execution_count": 4,
   "metadata": {},
   "outputs": [
    {
     "name": "stdout",
     "output_type": "stream",
     "text": [
      "k = 3, number of cliques = 3056386, execution time = 0.22746\n"
     ]
    }
   ],
   "source": [
    "k = 3\n",
    "start_time = time()\n",
    "number = counting_k_cliques(A, k)\n",
    "print(f'k = {k}, number of cliques = {number}, execution time = {np.round(time() - start_time, 5)}')"
   ]
  },
  {
   "cell_type": "code",
   "execution_count": 5,
   "metadata": {},
   "outputs": [
    {
     "name": "stdout",
     "output_type": "stream",
     "text": [
      "k = 4, number of cliques = 4986965, execution time = 7.05591\n"
     ]
    }
   ],
   "source": [
    "k = 4\n",
    "start_time = time()\n",
    "number = counting_k_cliques(A, k)\n",
    "print(f'k = {k}, number of cliques = {number}, execution time = {np.round(time() - start_time, 5)}')"
   ]
  },
  {
   "cell_type": "code",
   "execution_count": 6,
   "metadata": {},
   "outputs": [
    {
     "name": "stdout",
     "output_type": "stream",
     "text": [
      "k = 5, number of cliques = 7211947, execution time = 38.52922\n"
     ]
    }
   ],
   "source": [
    "k = 5\n",
    "start_time = time()\n",
    "number = counting_k_cliques(A, k)\n",
    "print(f'k = {k}, number of cliques = {number}, execution time = {np.round(time() - start_time, 5)}')"
   ]
  },
  {
   "cell_type": "code",
   "execution_count": 7,
   "metadata": {},
   "outputs": [
    {
     "name": "stdout",
     "output_type": "stream",
     "text": [
      "k = 6, number of cliques = 8443803, execution time = 35.98244\n"
     ]
    }
   ],
   "source": [
    "k = 6\n",
    "start_time = time()\n",
    "number = counting_k_cliques(A, k)\n",
    "print(f'k = {k}, number of cliques = {number}, execution time = {np.round(time() - start_time, 5)}')"
   ]
  },
  {
   "cell_type": "code",
   "execution_count": 8,
   "metadata": {},
   "outputs": [
    {
     "name": "stderr",
     "output_type": "stream",
     "text": [
      "OMP: Info #276: omp_set_nested routine deprecated, please use omp_set_max_active_levels instead.\n"
     ]
    },
    {
     "name": "stdout",
     "output_type": "stream",
     "text": [
      "k = 7, number of cliques = 7959704, execution time = 4239.05504\n"
     ]
    }
   ],
   "source": [
    "k = 7\n",
    "start_time = time()\n",
    "number = counting_k_cliques(A, k)\n",
    "print(f'k = {k}, number of cliques = {number}, execution time = {np.round(time() - start_time, 5)}')"
   ]
  }
 ],
 "metadata": {
  "kernelspec": {
   "display_name": "Python [.conda-graphblas]",
   "language": "python",
   "name": "conda-env-.conda-graphblas-py"
  },
  "language_info": {
   "codemirror_mode": {
    "name": "ipython",
    "version": 3
   },
   "file_extension": ".py",
   "mimetype": "text/x-python",
   "name": "python",
   "nbconvert_exporter": "python",
   "pygments_lexer": "ipython3",
   "version": "3.11.3"
  }
 },
 "nbformat": 4,
 "nbformat_minor": 4
}
